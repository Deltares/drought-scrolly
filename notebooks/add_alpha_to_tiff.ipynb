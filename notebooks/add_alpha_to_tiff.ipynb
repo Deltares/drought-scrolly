{
 "cells": [
  {
   "cell_type": "code",
   "execution_count": 63,
   "id": "6f9010ec",
   "metadata": {},
   "outputs": [],
   "source": [
    "import rasterio as rio\n",
    "import numpy as np\n",
    "import matplotlib.pyplot as plt"
   ]
  },
  {
   "cell_type": "code",
   "execution_count": 64,
   "id": "fd080814",
   "metadata": {},
   "outputs": [],
   "source": [
    "ds = rio.open('/Users/baart_f/data/drought/superview/grave.tif')"
   ]
  },
  {
   "cell_type": "code",
   "execution_count": 75,
   "id": "aa094e8c",
   "metadata": {},
   "outputs": [],
   "source": [
    "transform = ds.transform"
   ]
  },
  {
   "cell_type": "code",
   "execution_count": 79,
   "id": "b989e378",
   "metadata": {},
   "outputs": [],
   "source": [
    "# compute blurry mask\n",
    "n_cols = 500\n",
    "\n",
    "x = np.arange(ds.shape[1])\n",
    "y = np.arange(ds.shape[0])\n",
    "\n",
    "x_edge_left = np.abs((x - x[n_cols]) * ((x - x[n_cols]) <= 0))\n",
    "x_edge_right = np.abs((x - x[-n_cols - 1]) * ((x - x[-n_cols - 1]) >= 0))\n",
    "x_edge = x_edge_left + x_edge_right\n",
    "y_edge_left = np.abs((y - y[n_cols]) * ((y - y[n_cols]) <= 0))\n",
    "y_edge_right = np.abs((y - y[-n_cols - 1]) * ((y - y[-n_cols - 1]) >= 0))\n",
    "y_edge = y_edge_left + y_edge_right\n",
    "\n",
    "Y, X = np.meshgrid(y_edge, x_edge)\n",
    "mask = np.maximum(X, Y)\n",
    "mask_01 = 1 - (mask / mask.max())\n",
    "mask_255 = mask_01 * 255"
   ]
  },
  {
   "cell_type": "code",
   "execution_count": 81,
   "id": "8f28ad17",
   "metadata": {},
   "outputs": [],
   "source": [
    "with rio.open(\n",
    "    '/Users/baart_f/data/drought/superview/grave_rgba.tif',\n",
    "    'w',\n",
    "    driver='GTiff',\n",
    "    height=ds.shape[0],\n",
    "    width=ds.shape[1],\n",
    "    count=ds.count + 1,\n",
    "    dtype=ds.dtypes[0],\n",
    "    crs=ds.crs,\n",
    "    transform=transform,\n",
    ") as dst:\n",
    "    for i in range(1, 4):\n",
    "        dst.write(ds.read(i), i)\n",
    "    # write alpha channel\n",
    "    dst.write(mask_255, 4)\n",
    "        "
   ]
  },
  {
   "cell_type": "code",
   "execution_count": 74,
   "id": "714b59de",
   "metadata": {},
   "outputs": [
    {
     "data": {
      "text/plain": [
       "Affine(0.5971642834777837, 0.0, 636158.5140216164,\n",
       "       0.0, -0.5971642834777837, 6759803.545521855)"
      ]
     },
     "execution_count": 74,
     "metadata": {},
     "output_type": "execute_result"
    }
   ],
   "source": []
  },
  {
   "cell_type": "code",
   "execution_count": 16,
   "id": "b8e90b3b",
   "metadata": {},
   "outputs": [],
   "source": [
    "plt.imsave('img.png', ds.read(1))"
   ]
  },
  {
   "cell_type": "code",
   "execution_count": 17,
   "id": "ae2dedd8",
   "metadata": {},
   "outputs": [],
   "source": []
  },
  {
   "cell_type": "code",
   "execution_count": 56,
   "id": "5f68503e",
   "metadata": {},
   "outputs": [],
   "source": []
  },
  {
   "cell_type": "code",
   "execution_count": 55,
   "id": "bfd3e658",
   "metadata": {},
   "outputs": [
    {
     "data": {
      "text/plain": [
       "255"
      ]
     },
     "execution_count": 55,
     "metadata": {},
     "output_type": "execute_result"
    }
   ],
   "source": []
  },
  {
   "cell_type": "code",
   "execution_count": null,
   "id": "494b0a6d",
   "metadata": {},
   "outputs": [],
   "source": []
  }
 ],
 "metadata": {
  "kernelspec": {
   "display_name": "Python 3 (ipykernel)",
   "language": "python",
   "name": "python3"
  },
  "language_info": {
   "codemirror_mode": {
    "name": "ipython",
    "version": 3
   },
   "file_extension": ".py",
   "mimetype": "text/x-python",
   "name": "python",
   "nbconvert_exporter": "python",
   "pygments_lexer": "ipython3",
   "version": "3.9.16"
  }
 },
 "nbformat": 4,
 "nbformat_minor": 5
}
