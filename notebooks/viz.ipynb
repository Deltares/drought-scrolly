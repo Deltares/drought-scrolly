{
 "cells": [
  {
   "cell_type": "code",
   "execution_count": 37,
   "id": "1b8f7ca1",
   "metadata": {},
   "outputs": [],
   "source": [
    "import pathlib\n",
    "import datetime\n",
    "import warnings\n",
    "\n",
    "from tqdm.notebook import tqdm\n",
    "\n",
    "import shapely.geometry\n",
    "import geopandas as gpd\n",
    "import pandas as pd\n",
    "import numpy as np\n",
    "import movingpandas as mpd\n",
    "import matplotlib.pyplot as plt\n",
    "import matplotlib.colors\n",
    "import datashader as ds\n",
    "\n",
    "warnings.filterwarnings('ignore')"
   ]
  },
  {
   "cell_type": "code",
   "execution_count": 2,
   "id": "507839e0",
   "metadata": {},
   "outputs": [],
   "source": [
    "data_dir = pathlib.Path('~/data/drought/ivs').expanduser()\n"
   ]
  },
  {
   "cell_type": "code",
   "execution_count": 3,
   "id": "e3fb812d",
   "metadata": {},
   "outputs": [],
   "source": [
    "\n",
    "path = data_dir / 'traj.geojson'"
   ]
  },
  {
   "cell_type": "code",
   "execution_count": 41,
   "id": "ea5a05e7",
   "metadata": {},
   "outputs": [],
   "source": [
    "trips_gdf = gpd.read_file(data_dir / 'trip_metadata.geojson')\n",
    "trips_gdf = trips_gdf.set_index('traj_id')"
   ]
  },
  {
   "cell_type": "code",
   "execution_count": 4,
   "id": "3c5d7244",
   "metadata": {},
   "outputs": [],
   "source": [
    "traj_gdf = gpd.read_file(path)\n",
    "min_lon, min_lat, max_lon, max_lat = traj_gdf.total_bounds\n",
    "\n",
    "traj_gdf = traj_gdf.to_crs('EPSG:3857')\n"
   ]
  },
  {
   "cell_type": "code",
   "execution_count": 52,
   "id": "0e4e6395",
   "metadata": {},
   "outputs": [
    {
     "data": {
      "text/plain": [
       "(3.98679867212126, 48.80085112523804, 9.2593000000002, 52.47341491974)"
      ]
     },
     "execution_count": 52,
     "metadata": {},
     "output_type": "execute_result"
    }
   ],
   "source": [
    "min_lon, min_lat, max_lon, max_lat\n"
   ]
  },
  {
   "cell_type": "code",
   "execution_count": 62,
   "id": "5752d428",
   "metadata": {},
   "outputs": [
    {
     "data": {
      "text/plain": [
       "(443808.3980758379, 6241137.306100557, 1030740.5611021803, 6886181.785092141)"
      ]
     },
     "execution_count": 62,
     "metadata": {},
     "output_type": "execute_result"
    }
   ],
   "source": [
    "min_x, min_y, max_x, max_y = traj_gdf.total_bounds\n",
    "min_x, min_y, max_x, max_y\n",
    "\n"
   ]
  },
  {
   "cell_type": "code",
   "execution_count": 6,
   "id": "a0ed5aaa",
   "metadata": {},
   "outputs": [],
   "source": [
    "trajs = mpd.TrajectoryCollection(\n",
    "    traj_gdf.set_index('t'), \n",
    "    traj_id_col='traj'\n",
    ")"
   ]
  },
  {
   "cell_type": "code",
   "execution_count": 7,
   "id": "551f165e",
   "metadata": {},
   "outputs": [
    {
     "data": {
      "text/plain": [
       "(Timestamp('2022-01-02 00:32:13.079000'),\n",
       " Timestamp('2022-10-02 10:45:55.248000'))"
      ]
     },
     "execution_count": 7,
     "metadata": {},
     "output_type": "execute_result"
    }
   ],
   "source": [
    "t_min, t_max = traj_gdf.t.min(), traj_gdf.t.max()\n",
    "t_min, t_max"
   ]
  },
  {
   "cell_type": "code",
   "execution_count": 81,
   "id": "589ca55d",
   "metadata": {},
   "outputs": [
    {
     "data": {
      "text/html": [
       "<div>\n",
       "<style scoped>\n",
       "    .dataframe tbody tr th:only-of-type {\n",
       "        vertical-align: middle;\n",
       "    }\n",
       "\n",
       "    .dataframe tbody tr th {\n",
       "        vertical-align: top;\n",
       "    }\n",
       "\n",
       "    .dataframe thead th {\n",
       "        text-align: right;\n",
       "    }\n",
       "</style>\n",
       "<table border=\"1\" class=\"dataframe\">\n",
       "  <thead>\n",
       "    <tr style=\"text-align: right;\">\n",
       "      <th></th>\n",
       "      <th>t0</th>\n",
       "    </tr>\n",
       "  </thead>\n",
       "  <tbody>\n",
       "    <tr>\n",
       "      <th>39369</th>\n",
       "      <td>2022-10-02 10:02:13.079</td>\n",
       "    </tr>\n",
       "    <tr>\n",
       "      <th>39370</th>\n",
       "      <td>2022-10-02 10:12:13.079</td>\n",
       "    </tr>\n",
       "    <tr>\n",
       "      <th>39371</th>\n",
       "      <td>2022-10-02 10:22:13.079</td>\n",
       "    </tr>\n",
       "    <tr>\n",
       "      <th>39372</th>\n",
       "      <td>2022-10-02 10:32:13.079</td>\n",
       "    </tr>\n",
       "    <tr>\n",
       "      <th>39373</th>\n",
       "      <td>2022-10-02 10:42:13.079</td>\n",
       "    </tr>\n",
       "  </tbody>\n",
       "</table>\n",
       "</div>"
      ],
      "text/plain": [
       "                           t0\n",
       "39369 2022-10-02 10:02:13.079\n",
       "39370 2022-10-02 10:12:13.079\n",
       "39371 2022-10-02 10:22:13.079\n",
       "39372 2022-10-02 10:32:13.079\n",
       "39373 2022-10-02 10:42:13.079"
      ]
     },
     "execution_count": 81,
     "metadata": {},
     "output_type": "execute_result"
    }
   ],
   "source": [
    "timestamps = pd.date_range(t_min, t_max, freq='10min')\n",
    "t_df = pd.DataFrame(data=dict(t0=timestamps))\n",
    "t_df.tail()"
   ]
  },
  {
   "cell_type": "code",
   "execution_count": 82,
   "id": "0dc2eac3",
   "metadata": {},
   "outputs": [],
   "source": [
    "t_df['t1'] = timestamps + datetime.timedelta(hours=2)"
   ]
  },
  {
   "cell_type": "code",
   "execution_count": 85,
   "id": "b9a6ec00",
   "metadata": {},
   "outputs": [
    {
     "data": {
      "application/vnd.jupyter.widget-view+json": {
       "model_id": "b16096d8c63d4ec0ba3d563c35bc723f",
       "version_major": 2,
       "version_minor": 0
      },
      "text/plain": [
       "  0%|          | 0/39374 [00:00<?, ?it/s]"
      ]
     },
     "metadata": {},
     "output_type": "display_data"
    },
    {
     "data": {
      "image/png": "[encoded data removed]",
      "text/plain": [
       "<Figure size 576x576 with 1 Axes>"
      ]
     },
     "metadata": {
      "needs_background": "light"
     },
     "output_type": "display_data"
    }
   ],
   "source": [
    "fig, ax = plt.subplots(figsize=(8, 8))\n",
    "fig.subplots_adjust(left=0, right=1, bottom=0, top=1)\n",
    "ax.axis('tight')\n",
    "ax.axis('off')\n",
    "# work around bug in mapbox-gl\n",
    "fig.patch.set_facecolor((0, 0, 0, 0.1))\n",
    "\n",
    "lading_N = matplotlib.colors.Normalize(0, 2000, clip=True)\n",
    "\n",
    "for i, t_df_i in tqdm(t_df.iterrows(), total=t_df.shape[0]):\n",
    "    if i > 1000:\n",
    "        break\n",
    "    ax.clear()\n",
    "    # ax.axis('tight')\n",
    "    ax.axis('off')\n",
    "    fig.subplots_adjust(left=0, right=1, bottom=0, top=1)\n",
    "\n",
    "\n",
    "    for traj_i in trajs.trajectories:\n",
    "        t0, t1 = t_df_i\n",
    "        if traj_i.get_start_time() > t1:\n",
    "            # traj starts after selection\n",
    "            continue\n",
    "        if traj_i.get_end_time() < t0:\n",
    "            # traj stops before selection\n",
    "            continue\n",
    "        pos = traj_i.get_position_at(t1)\n",
    "        try:\n",
    "            segment = traj_i.get_segment_between(t0, t1)\n",
    "            segment.plot(alpha=0.5, edgecolor='cyan', linewidth=0.3, ax=ax)\n",
    "            segment.plot(alpha=0.2, edgecolor='white', linewidth=0.3, ax=ax)\n",
    "        except ValueError:\n",
    "            pass\n",
    "\n",
    "        trip_info = trips_gdf.loc[traj_i.id]\n",
    "        markersize = lading_N(trip_info['lading']) * 3 + 1\n",
    "        ax.plot(pos.x, pos.y, 'o', color='cyan', alpha=0.3, markersize=markersize)\n",
    "        ax.plot(pos.x, pos.y, 'o', color='white', alpha=0.3, markersize=markersize / 2)\n",
    "    ax.set_xlim(min_x, max_x)\n",
    "    ax.set_ylim(min_y, max_y)\n",
    "    \n",
    "    fig.savefig(f'render-{i:04d}.png', dpi=250)\n"
   ]
  },
  {
   "cell_type": "code",
   "execution_count": null,
   "id": "4b154eaa",
   "metadata": {},
   "outputs": [],
   "source": [
    "!ffmpeg -i 'render-%04d.png'  -c:v libvpx-vp9 -b:v 2M -cpu-used -5 -deadline realtime  render.webm"
   ]
  },
  {
   "cell_type": "code",
   "execution_count": null,
   "id": "ac01c0ad",
   "metadata": {},
   "outputs": [],
   "source": []
  }
 ],
 "metadata": {
  "kernelspec": {
   "display_name": "Python 3 (ipykernel)",
   "language": "python",
   "name": "python3"
  },
  "language_info": {
   "codemirror_mode": {
    "name": "ipython",
    "version": 3
   },
   "file_extension": ".py",
   "mimetype": "text/x-python",
   "name": "python",
   "nbconvert_exporter": "python",
   "pygments_lexer": "ipython3",
   "version": "3.9.15"
  }
 },
 "nbformat": 4,
 "nbformat_minor": 5
}
