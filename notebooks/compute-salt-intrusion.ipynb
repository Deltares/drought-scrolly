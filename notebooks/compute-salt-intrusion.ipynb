{
 "cells": [
  {
   "cell_type": "code",
   "execution_count": 1,
   "id": "8d246076",
   "metadata": {},
   "outputs": [],
   "source": [
    "import pandas as pd\n",
    "import datetime\n",
    "import matplotlib.pyplot as plt\n",
    "import matplotlib.dates\n",
    "\n",
    "plt.style.use('dark_background')\n"
   ]
  },
  {
   "cell_type": "code",
   "execution_count": 2,
   "id": "0d8fb281",
   "metadata": {},
   "outputs": [
    {
     "data": {
      "text/html": [
       "<div>\n",
       "<style scoped>\n",
       "    .dataframe tbody tr th:only-of-type {\n",
       "        vertical-align: middle;\n",
       "    }\n",
       "\n",
       "    .dataframe tbody tr th {\n",
       "        vertical-align: top;\n",
       "    }\n",
       "\n",
       "    .dataframe thead th {\n",
       "        text-align: right;\n",
       "    }\n",
       "</style>\n",
       "<table border=\"1\" class=\"dataframe\">\n",
       "  <thead>\n",
       "    <tr style=\"text-align: right;\">\n",
       "      <th></th>\n",
       "      <th>t</th>\n",
       "      <th>salt transport (day) [kg/s]</th>\n",
       "      <th>salt transport (week) [kg / s]</th>\n",
       "    </tr>\n",
       "  </thead>\n",
       "  <tbody>\n",
       "    <tr>\n",
       "      <th>0</th>\n",
       "      <td>2022-01-17 01:00:00</td>\n",
       "      <td>325</td>\n",
       "      <td>347</td>\n",
       "    </tr>\n",
       "    <tr>\n",
       "      <th>1</th>\n",
       "      <td>2022-01-18 01:00:00</td>\n",
       "      <td>143</td>\n",
       "      <td>309</td>\n",
       "    </tr>\n",
       "    <tr>\n",
       "      <th>2</th>\n",
       "      <td>2022-01-19 01:00:00</td>\n",
       "      <td>291</td>\n",
       "      <td>301</td>\n",
       "    </tr>\n",
       "    <tr>\n",
       "      <th>3</th>\n",
       "      <td>2022-01-20 01:00:00</td>\n",
       "      <td>416</td>\n",
       "      <td>310</td>\n",
       "    </tr>\n",
       "    <tr>\n",
       "      <th>4</th>\n",
       "      <td>2022-01-21 01:00:00</td>\n",
       "      <td>391</td>\n",
       "      <td>318</td>\n",
       "    </tr>\n",
       "    <tr>\n",
       "      <th>...</th>\n",
       "      <td>...</td>\n",
       "      <td>...</td>\n",
       "      <td>...</td>\n",
       "    </tr>\n",
       "    <tr>\n",
       "      <th>368</th>\n",
       "      <td>2023-01-20 01:00:00</td>\n",
       "      <td>375</td>\n",
       "      <td>245</td>\n",
       "    </tr>\n",
       "    <tr>\n",
       "      <th>369</th>\n",
       "      <td>2023-01-21 01:00:00</td>\n",
       "      <td>157</td>\n",
       "      <td>220</td>\n",
       "    </tr>\n",
       "    <tr>\n",
       "      <th>370</th>\n",
       "      <td>2023-01-22 01:00:00</td>\n",
       "      <td>289</td>\n",
       "      <td>218</td>\n",
       "    </tr>\n",
       "    <tr>\n",
       "      <th>371</th>\n",
       "      <td>2023-01-23 01:00:00</td>\n",
       "      <td>156</td>\n",
       "      <td>224</td>\n",
       "    </tr>\n",
       "    <tr>\n",
       "      <th>372</th>\n",
       "      <td>2023-01-24 01:00:00</td>\n",
       "      <td>350</td>\n",
       "      <td>274</td>\n",
       "    </tr>\n",
       "  </tbody>\n",
       "</table>\n",
       "<p>373 rows × 3 columns</p>\n",
       "</div>"
      ],
      "text/plain": [
       "                      t  salt transport (day) [kg/s]   \n",
       "0   2022-01-17 01:00:00                          325  \\\n",
       "1   2022-01-18 01:00:00                          143   \n",
       "2   2022-01-19 01:00:00                          291   \n",
       "3   2022-01-20 01:00:00                          416   \n",
       "4   2022-01-21 01:00:00                          391   \n",
       "..                  ...                          ...   \n",
       "368 2023-01-20 01:00:00                          375   \n",
       "369 2023-01-21 01:00:00                          157   \n",
       "370 2023-01-22 01:00:00                          289   \n",
       "371 2023-01-23 01:00:00                          156   \n",
       "372 2023-01-24 01:00:00                          350   \n",
       "\n",
       "      salt transport (week) [kg / s]  \n",
       "0                                347  \n",
       "1                                309  \n",
       "2                                301  \n",
       "3                                310  \n",
       "4                                318  \n",
       "..                               ...  \n",
       "368                              245  \n",
       "369                              220  \n",
       "370                              218  \n",
       "371                              224  \n",
       "372                              274  \n",
       "\n",
       "[373 rows x 3 columns]"
      ]
     },
     "execution_count": 2,
     "metadata": {},
     "output_type": "execute_result"
    }
   ],
   "source": [
    "df = pd.read_excel(\n",
    "    '/Users/baart_f/data/drought/salt/Zoutlast_ZSF_IJmuiden_20220117-20230124_daggemiddeldes_weekgemiddeldes.xlsx', \n",
    "    skiprows=5,\n",
    "    names=['t', 'salt transport (day) [kg/s]', ' salt transport (week) [kg / s]']\n",
    ")\n",
    "df\n",
    "\n"
   ]
  },
  {
   "cell_type": "code",
   "execution_count": 3,
   "id": "80762d1b",
   "metadata": {},
   "outputs": [],
   "source": [
    "\n",
    "t_0 = datetime.datetime(2022, 7, 19)\n",
    "t_1 = datetime.datetime(2022, 9, 23)\n",
    "\n",
    "df['regime'] = 1\n"
   ]
  },
  {
   "cell_type": "code",
   "execution_count": 4,
   "id": "481eccce",
   "metadata": {},
   "outputs": [],
   "source": [
    "df.loc[df.t < t_0, 'regime'] = 0\n",
    "df.loc[df.t >= t_1, 'regime'] = 2"
   ]
  },
  {
   "cell_type": "code",
   "execution_count": 5,
   "id": "49bf6ecd",
   "metadata": {},
   "outputs": [],
   "source": [
    "# select periods over regimes\n",
    "periods = (\n",
    "    df\n",
    "    .groupby('regime')\n",
    "    .agg(['min', 'max', 'mean'])\n",
    "    [\n",
    "        [\n",
    "            ('t', 'min'), \n",
    "            ('t', 'max'), \n",
    "            ('salt transport (day) [kg/s]', 'mean')\n",
    "        ]\n",
    "    ]\n",
    ")"
   ]
  },
  {
   "cell_type": "code",
   "execution_count": 6,
   "id": "6d8befbd",
   "metadata": {},
   "outputs": [
    {
     "data": {
      "text/html": [
       "<div>\n",
       "<style scoped>\n",
       "    .dataframe tbody tr th:only-of-type {\n",
       "        vertical-align: middle;\n",
       "    }\n",
       "\n",
       "    .dataframe tbody tr th {\n",
       "        vertical-align: top;\n",
       "    }\n",
       "\n",
       "    .dataframe thead tr th {\n",
       "        text-align: left;\n",
       "    }\n",
       "\n",
       "    .dataframe thead tr:last-of-type th {\n",
       "        text-align: right;\n",
       "    }\n",
       "</style>\n",
       "<table border=\"1\" class=\"dataframe\">\n",
       "  <thead>\n",
       "    <tr>\n",
       "      <th></th>\n",
       "      <th colspan=\"2\" halign=\"left\">t</th>\n",
       "      <th>salt transport (day) [kg/s]</th>\n",
       "    </tr>\n",
       "    <tr>\n",
       "      <th></th>\n",
       "      <th>min</th>\n",
       "      <th>max</th>\n",
       "      <th>mean</th>\n",
       "    </tr>\n",
       "    <tr>\n",
       "      <th>regime</th>\n",
       "      <th></th>\n",
       "      <th></th>\n",
       "      <th></th>\n",
       "    </tr>\n",
       "  </thead>\n",
       "  <tbody>\n",
       "    <tr>\n",
       "      <th>0</th>\n",
       "      <td>2022-01-17 01:00:00</td>\n",
       "      <td>2022-07-18 02:00:00</td>\n",
       "      <td>333.393443</td>\n",
       "    </tr>\n",
       "    <tr>\n",
       "      <th>1</th>\n",
       "      <td>2022-07-19 02:00:00</td>\n",
       "      <td>2022-09-22 02:00:00</td>\n",
       "      <td>181.363636</td>\n",
       "    </tr>\n",
       "    <tr>\n",
       "      <th>2</th>\n",
       "      <td>2022-09-23 02:00:00</td>\n",
       "      <td>2023-01-24 01:00:00</td>\n",
       "      <td>321.427419</td>\n",
       "    </tr>\n",
       "  </tbody>\n",
       "</table>\n",
       "</div>"
      ],
      "text/plain": [
       "                         t                     salt transport (day) [kg/s]\n",
       "                       min                 max                        mean\n",
       "regime                                                                    \n",
       "0      2022-01-17 01:00:00 2022-07-18 02:00:00                  333.393443\n",
       "1      2022-07-19 02:00:00 2022-09-22 02:00:00                  181.363636\n",
       "2      2022-09-23 02:00:00 2023-01-24 01:00:00                  321.427419"
      ]
     },
     "execution_count": 6,
     "metadata": {},
     "output_type": "execute_result"
    }
   ],
   "source": [
    "periods"
   ]
  },
  {
   "cell_type": "code",
   "execution_count": 7,
   "id": "da22dc20",
   "metadata": {},
   "outputs": [
    {
     "data": {
      "text/plain": [
       "Text(0.5, 1.0, 'IJmuiden zout transport')"
      ]
     },
     "execution_count": 7,
     "metadata": {},
     "output_type": "execute_result"
    },
    {
     "data": {
      "image/png": "[encoded data removed]",
      "text/plain": [
       "<Figure size 360x216 with 1 Axes>"
      ]
     },
     "metadata": {
      "needs_background": "dark"
     },
     "output_type": "display_data"
    }
   ],
   "source": [
    "fig, ax = plt.subplots(figsize=(5, 3))\n",
    "\n",
    "months = matplotlib.dates.MonthLocator((1,4,7,10))\n",
    "\n",
    "ax.plot(df['t'], df['salt transport (day) [kg/s]'], alpha=0.5, linewidth=0.4)\n",
    "# ax.plot(periods)\n",
    "\n",
    "for i, row in periods.iterrows():\n",
    "    t_min = row[('t', 'min')]\n",
    "    t_max = row[('t', 'max')]\n",
    "    val = row[('salt transport (day) [kg/s]', 'mean')]\n",
    "    ax.fill_between([t_min, t_max], 0, val, alpha=0.3, color='white')\n",
    "ax.xaxis.set_major_locator(months)\n",
    "ax.set_ylabel('zout transport [kg/s]')\n",
    "ax.set_title('IJmuiden zout transport')"
   ]
  },
  {
   "cell_type": "code",
   "execution_count": 8,
   "id": "64e5c6f8",
   "metadata": {},
   "outputs": [
    {
     "data": {
      "text/plain": [
       "5.9136"
      ]
     },
     "execution_count": 8,
     "metadata": {},
     "output_type": "execute_result"
    }
   ],
   "source": [
    "delta_t = (t_1 - t_0).total_seconds()\n",
    "delta_salt = 320 - 180\n",
    "\n",
    "# https://www.transport-online.nl/site/126435/rijkswaterstaat-strooide-in-hele-winter-135-miljoen-kilo-zout/\n",
    "reduced_salt = (delta_t * delta_salt)\n",
    "# n x salt used per winter by RWS\n",
    "reduced_salt / 135000000"
   ]
  },
  {
   "cell_type": "code",
   "execution_count": 9,
   "id": "71138281",
   "metadata": {},
   "outputs": [],
   "source": [
    "fig.savefig('/Users/baart_f/src/drought-scrolly/example/drought-scrolly/images/figures/salt.png')"
   ]
  },
  {
   "cell_type": "code",
   "execution_count": 10,
   "id": "08f295a9",
   "metadata": {},
   "outputs": [
    {
     "data": {
      "text/plain": [
       "798336000.0"
      ]
     },
     "execution_count": 10,
     "metadata": {},
     "output_type": "execute_result"
    }
   ],
   "source": [
    "reduced_salt"
   ]
  },
  {
   "cell_type": "code",
   "execution_count": 11,
   "id": "a36e7216",
   "metadata": {},
   "outputs": [
    {
     "ename": "SyntaxError",
     "evalue": "invalid syntax (1106088264.py, line 1)",
     "output_type": "error",
     "traceback": [
      "\u001b[0;36m  Cell \u001b[0;32mIn[11], line 1\u001b[0;36m\u001b[0m\n\u001b[0;31m    35g / l\u001b[0m\n\u001b[0m      ^\u001b[0m\n\u001b[0;31mSyntaxError\u001b[0m\u001b[0;31m:\u001b[0m invalid syntax\n"
     ]
    }
   ],
   "source": [
    "35g / l"
   ]
  }
 ],
 "metadata": {
  "kernelspec": {
   "display_name": "Python 3 (ipykernel)",
   "language": "python",
   "name": "python3"
  },
  "language_info": {
   "codemirror_mode": {
    "name": "ipython",
    "version": 3
   },
   "file_extension": ".py",
   "mimetype": "text/x-python",
   "name": "python",
   "nbconvert_exporter": "python",
   "pygments_lexer": "ipython3",
   "version": "3.9.16"
  }
 },
 "nbformat": 4,
 "nbformat_minor": 5
}
