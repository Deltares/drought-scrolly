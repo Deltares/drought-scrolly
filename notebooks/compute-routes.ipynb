{
 "cells": [
  {
   "cell_type": "code",
   "execution_count": 1,
   "id": "8df29d0e",
   "metadata": {},
   "outputs": [],
   "source": [
    "import pathlib\n",
    "import itertools\n",
    "import pickle\n",
    "\n",
    "import numpy as np\n",
    "import pandas as pd\n",
    "import geopandas as gpd\n",
    "import shapely.ops\n",
    "import shapely\n",
    "\n",
    "import pyproj\n",
    "\n",
    "import requests\n",
    "import networkx as nx\n",
    "\n",
    "\n",
    "\n",
    "%matplotlib inline"
   ]
  },
  {
   "cell_type": "code",
   "execution_count": 2,
   "id": "f0f3ba01",
   "metadata": {},
   "outputs": [],
   "source": [
    "data_dir = pathlib.Path('~/data/drought').expanduser()\n"
   ]
  },
  {
   "cell_type": "code",
   "execution_count": 3,
   "id": "2d9898e4",
   "metadata": {},
   "outputs": [],
   "source": [
    "ivs_path = data_dir / 'ivs' / 'ivs-geocoded.pickle'\n",
    "graph_path = data_dir / 'network' / 'network_digital_twin_v0.3.pickle'"
   ]
  },
  {
   "cell_type": "code",
   "execution_count": 4,
   "id": "7dce34a2",
   "metadata": {},
   "outputs": [],
   "source": [
    "with ivs_path.open('rb') as f:\n",
    "    ivs_gdf = pickle.load(f)\n",
    "    ivs_gdf['geometry_herkomst'] = ivs_gdf['geometry'] \n",
    "with graph_path.open('rb') as f:\n",
    "    graph = pickle.load(f)"
   ]
  },
  {
   "cell_type": "code",
   "execution_count": 5,
   "id": "ab59d696",
   "metadata": {},
   "outputs": [],
   "source": [
    "# Remove open sea connections\n",
    "graph.remove_edges_from([\n",
    "    ('8867399', '8860964'),\n",
    "    ('8860673', '8868194'),\n",
    "    ('8862471', '8867736'),\n",
    "    ('8862449', '8868149'), \n",
    "    ('8866969', '8860852'), # Rotterdam\n",
    "    ('8863489', '8864829'),  # Scheveningen\n",
    "    ('8860693', '8862971'), # IJmuiden\n",
    "    ('8867031', '8860908'), # Den Helder\n",
    "    ('8867286', '8867031'), # Den Helder\n",
    "    ('8861237', '8866818'), # Vlieland\n",
    "    ('8867280', '8867108'), # Terschelling\n",
    "    ('8861800', '8862121'), # Ameland\n",
    "    ('30986639', '8867432'), # Schiermonnikoog\n",
    "    ('8867027', '8860544'), # Borkum\n",
    "    ('30985121', '30986625'), #\n",
    "    ('8860557', '8867857'),\n",
    "])"
   ]
  },
  {
   "cell_type": "code",
   "execution_count": 6,
   "id": "42c9a24e",
   "metadata": {},
   "outputs": [],
   "source": [
    "graph.add_edges_from([\n",
    "    ('L4583745_A', 'FN6'),\n",
    "    ('FN264', '35228581'),\n",
    "    ('L1278654_A', 'FN72'),\n",
    "    ('L1278651_B', 'FN72'),\n",
    "    ('L1361959_A', 'FN120'),\n",
    "    ('35228529', 'FN120'),\n",
    "    ('L1361139_A', 'FN647'),\n",
    "    ('L1360434_B', 'FN647'),\n",
    "    ('FN279', 'FN245'),\n",
    "    ('FN302', 'FN68'),\n",
    "    ('L1290993_B', 'FN219')\n",
    "    \n",
    "],\n",
    "    **{'distance_m': 0}\n",
    ")"
   ]
  },
  {
   "cell_type": "code",
   "execution_count": 7,
   "id": "b374a46e",
   "metadata": {},
   "outputs": [],
   "source": [
    "routes_df = (\n",
    "    ivs_gdf\n",
    "    .dropna(subset=['n', 'n_bestemming'])\n",
    "    .drop_duplicates(['n', 'n_bestemming'])\n",
    "    [['n', 'n_bestemming']]\n",
    ").reset_index(drop=True)"
   ]
  },
  {
   "cell_type": "code",
   "execution_count": 8,
   "id": "07390d73",
   "metadata": {},
   "outputs": [],
   "source": [
    "def find_route(row):\n",
    "    \"\"\"compute the route and compute the simple geometry\"\"\"\n",
    "    has_fis_route = True\n",
    "    try:\n",
    "        route = nx.shortest_path(graph, source=row['n'], target=row['n_bestemming'], weight='distance_m')\n",
    "    except nx.NetworkXNoPath:\n",
    "        route = None\n",
    "        has_fis_route = False\n",
    "    \n",
    "    if not route or len(route) == 1:\n",
    "        a = shapely.geometry.shape(graph.nodes[row['n']]['geometry'])\n",
    "        b = shapely.geometry.shape(graph.nodes[row['n_bestemming']]['geometry'])\n",
    "        geometry = shapely.geometry.LineString([a, b])\n",
    "        has_fis_route = False\n",
    "    else:\n",
    "        points = []\n",
    "        for n in route:\n",
    "            point = shapely.geometry.shape(graph.nodes[n]['geometry'])\n",
    "            points.append(point)\n",
    "        geometry = shapely.geometry.LineString(points)    \n",
    "    \n",
    "    row['geometry'] = geometry\n",
    "    row['route'] = route\n",
    "    row['has_fis_route'] = has_fis_route\n",
    "    \n",
    "    return row\n",
    "\n",
    "\n",
    "routes_gdf = gpd.GeoDataFrame(routes_df.apply(find_route, axis=1))\n"
   ]
  },
  {
   "cell_type": "code",
   "execution_count": 9,
   "id": "5acc9122",
   "metadata": {},
   "outputs": [],
   "source": [
    "routes_gdf.drop(columns=['route']).to_file(data_dir / 'network' / 'routes.geojson')"
   ]
  },
  {
   "cell_type": "code",
   "execution_count": 10,
   "id": "20321e78",
   "metadata": {},
   "outputs": [],
   "source": [
    "merged_gdf = ivs_gdf.merge(\n",
    "    routes_gdf, \n",
    "    left_on=['n', 'n_bestemming'], \n",
    "    right_on=['n', 'n_bestemming'], \n",
    "    how='left', \n",
    "    suffixes=['', '_fis']\n",
    ")\n"
   ]
  },
  {
   "cell_type": "code",
   "execution_count": 11,
   "id": "145b3ef5",
   "metadata": {},
   "outputs": [],
   "source": [
    "merged_gdf['has_fis_route'] = merged_gdf['has_fis_route'].fillna(0).astype('bool')"
   ]
  },
  {
   "cell_type": "code",
   "execution_count": 12,
   "id": "10a46595",
   "metadata": {},
   "outputs": [],
   "source": [
    "row = merged_gdf.loc[116367]\n"
   ]
  },
  {
   "cell_type": "code",
   "execution_count": 13,
   "id": "81a7eddf",
   "metadata": {},
   "outputs": [],
   "source": [
    "geod = pyproj.Geod(ellps='WGS84')\n",
    "def great_circle_geometry(row):\n",
    "    a = row['geometry_herkomst']\n",
    "    b = row['geometry_bestemming']\n",
    "    if a is None or b is None:\n",
    "        return None\n",
    "    intermediate = geod.inv_intermediate(a.x, a.y, b.x, b.y, npts=20)\n",
    "    geometry = shapely.geometry.LineString(np.c_[intermediate.lons, intermediate.lats])\n",
    "    return geometry\n",
    "\n",
    "merged_gdf['geometry_great_circle'] = merged_gdf.apply(great_circle_geometry, axis=1)"
   ]
  },
  {
   "cell_type": "code",
   "execution_count": 14,
   "id": "41c8887c",
   "metadata": {},
   "outputs": [],
   "source": [
    "merged_gdf['geometry'] = merged_gdf['geometry_fis'].where(merged_gdf['has_fis_route'], merged_gdf['geometry_great_circle'])"
   ]
  },
  {
   "cell_type": "code",
   "execution_count": 15,
   "id": "8786d407",
   "metadata": {},
   "outputs": [],
   "source": [
    "ivs_routed = merged_gdf[['geometry', 'jaar', 'week', 'reizen', 'beladen_lvm', 'lading', 'has_fis_route']]\n",
    "ivs_routed = gpd.GeoDataFrame(ivs_routed)\n",
    "ivs_routed.to_file(data_dir / 'ivs' / 'ivs_routed.geojson')\n",
    "\n"
   ]
  },
  {
   "cell_type": "code",
   "execution_count": 23,
   "id": "5659bdaf",
   "metadata": {},
   "outputs": [
    {
     "data": {
      "text/plain": [
       "<networkx.classes.graph.Graph at 0x106760c70>"
      ]
     },
     "execution_count": 23,
     "metadata": {},
     "output_type": "execute_result"
    }
   ],
   "source": [
    "list(graph.nodes)"
   ]
  },
  {
   "cell_type": "code",
   "execution_count": null,
   "id": "ec62dbbe",
   "metadata": {},
   "outputs": [],
   "source": []
  }
 ],
 "metadata": {
  "kernelspec": {
   "display_name": "Python 3 (ipykernel)",
   "language": "python",
   "name": "python3"
  },
  "language_info": {
   "codemirror_mode": {
    "name": "ipython",
    "version": 3
   },
   "file_extension": ".py",
   "mimetype": "text/x-python",
   "name": "python",
   "nbconvert_exporter": "python",
   "pygments_lexer": "ipython3",
   "version": "3.9.16"
  }
 },
 "nbformat": 4,
 "nbformat_minor": 5
}
